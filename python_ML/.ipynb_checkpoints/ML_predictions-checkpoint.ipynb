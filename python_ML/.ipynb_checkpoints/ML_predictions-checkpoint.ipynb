{
 "cells": [
  {
   "cell_type": "markdown",
   "metadata": {},
   "source": [
    "# Predicting likelihood of job automation"
   ]
  },
  {
   "cell_type": "markdown",
   "metadata": {},
   "source": [
    "Mike Griffin"
   ]
  },
  {
   "cell_type": "code",
   "execution_count": null,
   "metadata": {
    "collapsed": true
   },
   "outputs": [],
   "source": [
    "# Import libraries\n",
    "import pandas as pd\n",
    "import numpy as np\n",
    "from sklearn.gaussian_process import GaussianProcessClassifier\n",
    "from sklearn.gaussian_process.kernels import (RBF,RationalQuadratic)\n",
    "import matplotlib.pyplot as plt\n",
    "%matplotlib inline"
   ]
  },
  {
   "cell_type": "markdown",
   "metadata": {},
   "source": [
    "## Calibrating against 2010 analysis"
   ]
  },
  {
   "cell_type": "code",
   "execution_count": null,
   "metadata": {
    "collapsed": true
   },
   "outputs": [],
   "source": [
    "ML_data = pd.read_csv(\"ML_data_2010.csv\") "
   ]
  },
  {
   "cell_type": "code",
   "execution_count": null,
   "metadata": {},
   "outputs": [],
   "source": [
    "ML_data.shape"
   ]
  },
  {
   "cell_type": "markdown",
   "metadata": {},
   "source": [
    "## Train model on labelled data"
   ]
  },
  {
   "cell_type": "code",
   "execution_count": null,
   "metadata": {},
   "outputs": [],
   "source": [
    "ML_train = ML_data[ML_data['label_ML']>=0]"
   ]
  },
  {
   "cell_type": "code",
   "execution_count": null,
   "metadata": {
    "collapsed": true
   },
   "outputs": [],
   "source": [
    "features = ['fine_arts','finger_dexterity','manual_dexterity','social_perceptiveness','Negotiation','Originality','Persuasion','assisting_and_caring','cramped_work_space']\n",
    "\n",
    "X_train = ML_train.filter(features)\n",
    "y_train = ML_train.filter(['label_ML'])"
   ]
  },
  {
   "cell_type": "code",
   "execution_count": null,
   "metadata": {
    "collapsed": true
   },
   "outputs": [],
   "source": [
    "X_all = ML_data.filter(features)"
   ]
  },
  {
   "cell_type": "code",
   "execution_count": null,
   "metadata": {},
   "outputs": [],
   "source": [
    "X_train = X_train\n",
    "print(X_train.shape)\n",
    "print(ML_data.shape)"
   ]
  },
  {
   "cell_type": "code",
   "execution_count": null,
   "metadata": {},
   "outputs": [],
   "source": [
    "#kernel = 1.0 * RBF(1.0)\n",
    "kernel = 1.0 * RationalQuadratic(length_scale=1.0, alpha=0.1)\n",
    "gpc = GaussianProcessClassifier(kernel=kernel,random_state=0).fit(X_train, y_train)\n",
    "gpc.score(X_train, y_train)"
   ]
  },
  {
   "cell_type": "markdown",
   "metadata": {},
   "source": [
    "## Run model on all occupations"
   ]
  },
  {
   "cell_type": "code",
   "execution_count": null,
   "metadata": {
    "collapsed": true
   },
   "outputs": [],
   "source": [
    "GP_est = pd.DataFrame(gpc.predict_proba(X_all))"
   ]
  },
  {
   "cell_type": "code",
   "execution_count": null,
   "metadata": {
    "collapsed": true,
    "scrolled": false
   },
   "outputs": [],
   "source": [
    "ML_output = pd.concat([ML_data,GP_est],axis=1,ignore_index= True)"
   ]
  },
  {
   "cell_type": "code",
   "execution_count": null,
   "metadata": {
    "collapsed": true
   },
   "outputs": [],
   "source": [
    "ML_output.columns = ['OCC_CODE','OCC_TITLE','fine_arts','finger_dexterity',\n",
    "                     'manual_dexterity','social_perceptiveness','Negotiation',\n",
    "                     'Persuasion','Originality','assisting_and_caring','cramped_work_space',\n",
    "                     'label_ML','probability_ML','GP_pred_0','GP_pred_1']"
   ]
  },
  {
   "cell_type": "markdown",
   "metadata": {},
   "source": [
    "## Analyse results against original study "
   ]
  },
  {
   "cell_type": "code",
   "execution_count": null,
   "metadata": {},
   "outputs": [],
   "source": [
    "plt.scatter(ML_output['probability_ML'], ML_output['GP_pred_1'])"
   ]
  },
  {
   "cell_type": "code",
   "execution_count": null,
   "metadata": {
    "collapsed": true
   },
   "outputs": [],
   "source": [
    "# Assign classifications\n",
    "\n",
    "def prob_class_old(row):\n",
    "    if row[\"probability_ML\"] < 0.3:\n",
    "        return \"3) Low\"\n",
    "    elif row[\"probability_ML\"] < 0.6:\n",
    "        return \"2) Medium\"\n",
    "    else:\n",
    "        return \"1) High\"\n",
    "\n",
    "def prob_class_new(row):\n",
    "    if row[\"GP_pred_1\"] < 0.3:\n",
    "        return \"3) Low\"\n",
    "    elif row[\"GP_pred_1\"] < 0.6:\n",
    "        return \"2) Medium\"\n",
    "    else:\n",
    "        return \"1) High\"\n"
   ]
  },
  {
   "cell_type": "code",
   "execution_count": null,
   "metadata": {
    "collapsed": true
   },
   "outputs": [],
   "source": [
    "ML_output_mod = ML_output.assign(prob_class_old=ML_output.apply(prob_class_old, axis=1))\n",
    "ML_output_mod = ML_output_mod.assign(prob_class_new=ML_output_mod.apply(prob_class_new, axis=1))"
   ]
  },
  {
   "cell_type": "code",
   "execution_count": null,
   "metadata": {},
   "outputs": [],
   "source": [
    "ML_output_mod.groupby(['prob_class_old','prob_class_new']).size()"
   ]
  },
  {
   "cell_type": "markdown",
   "metadata": {},
   "source": [
    "## Running same model on 2018 dataset"
   ]
  },
  {
   "cell_type": "code",
   "execution_count": null,
   "metadata": {
    "collapsed": true
   },
   "outputs": [],
   "source": [
    "ML_data_2018 = pd.read_csv(\"ML_data_2018.csv\")\n",
    "column_names_2018 = ML_data_2018.columns.values.tolist()"
   ]
  },
  {
   "cell_type": "code",
   "execution_count": null,
   "metadata": {
    "collapsed": true
   },
   "outputs": [],
   "source": [
    "X_all_2018 = ML_data_2018.filter(features)\n",
    "GP_est_2018 = pd.DataFrame(gpc.predict_proba(X_all_2018))\n",
    "ML_output_2018 = pd.concat([ML_data_2018,GP_est_2018],axis=1,ignore_index= True)\n",
    "ML_output_2018.columns = column_names_2018+ ['GP_pred_0','GP_pred_1']"
   ]
  },
  {
   "cell_type": "code",
   "execution_count": null,
   "metadata": {
    "collapsed": true
   },
   "outputs": [],
   "source": [
    "ML_output_2018_mod = ML_output_2018.assign(prob_class_new=ML_output_2018.apply(prob_class_new, axis=1))"
   ]
  },
  {
   "cell_type": "code",
   "execution_count": null,
   "metadata": {
    "collapsed": true
   },
   "outputs": [],
   "source": [
    "ML_output_2018_mod.to_csv('ML_output_2018.csv')"
   ]
  }
 ],
 "metadata": {
  "kernelspec": {
   "display_name": "Python 3",
   "language": "python",
   "name": "python3"
  },
  "language_info": {
   "codemirror_mode": {
    "name": "ipython",
    "version": 3
   },
   "file_extension": ".py",
   "mimetype": "text/x-python",
   "name": "python",
   "nbconvert_exporter": "python",
   "pygments_lexer": "ipython3",
   "version": "3.6.3"
  }
 },
 "nbformat": 4,
 "nbformat_minor": 2
}
