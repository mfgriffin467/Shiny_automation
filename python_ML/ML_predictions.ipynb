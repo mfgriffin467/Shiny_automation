{
 "cells": [
  {
   "cell_type": "markdown",
   "metadata": {},
   "source": [
    "# Predicting likelihood of job automation"
   ]
  },
  {
   "cell_type": "markdown",
   "metadata": {},
   "source": [
    "Mike Griffin"
   ]
  },
  {
   "cell_type": "code",
   "execution_count": 250,
   "metadata": {
    "collapsed": true
   },
   "outputs": [],
   "source": [
    "# Import libraries\n",
    "import pandas as pd\n",
    "import numpy as np\n",
    "from sklearn.gaussian_process import GaussianProcessClassifier\n",
    "from sklearn.gaussian_process.kernels import (RBF,RationalQuadratic)\n",
    "import matplotlib.pyplot as plt\n",
    "%matplotlib inline"
   ]
  },
  {
   "cell_type": "markdown",
   "metadata": {},
   "source": [
    "## Calibrating against 2010 analysis"
   ]
  },
  {
   "cell_type": "code",
   "execution_count": 251,
   "metadata": {},
   "outputs": [],
   "source": [
    "ML_data = pd.read_csv(\"ML_data_2010.csv\") "
   ]
  },
  {
   "cell_type": "code",
   "execution_count": 252,
   "metadata": {},
   "outputs": [
    {
     "data": {
      "text/html": [
       "<div>\n",
       "<style scoped>\n",
       "    .dataframe tbody tr th:only-of-type {\n",
       "        vertical-align: middle;\n",
       "    }\n",
       "\n",
       "    .dataframe tbody tr th {\n",
       "        vertical-align: top;\n",
       "    }\n",
       "\n",
       "    .dataframe thead th {\n",
       "        text-align: right;\n",
       "    }\n",
       "</style>\n",
       "<table border=\"1\" class=\"dataframe\">\n",
       "  <thead>\n",
       "    <tr style=\"text-align: right;\">\n",
       "      <th></th>\n",
       "      <th>OCC_CODE</th>\n",
       "      <th>OCC_TITLE</th>\n",
       "      <th>fine_arts</th>\n",
       "      <th>finger_dexterity</th>\n",
       "      <th>manual_dexterity</th>\n",
       "      <th>social_perceptiveness</th>\n",
       "      <th>Negotiation</th>\n",
       "      <th>Originality</th>\n",
       "      <th>Persuasion</th>\n",
       "      <th>assisting_and_caring</th>\n",
       "      <th>cramped_work_space</th>\n",
       "      <th>label_ML</th>\n",
       "      <th>probability_ML</th>\n",
       "    </tr>\n",
       "  </thead>\n",
       "  <tbody>\n",
       "    <tr>\n",
       "      <th>0</th>\n",
       "      <td>11-1011</td>\n",
       "      <td>Chief Executives</td>\n",
       "      <td>0.29</td>\n",
       "      <td>2.13</td>\n",
       "      <td>0.00</td>\n",
       "      <td>4.38</td>\n",
       "      <td>4.50</td>\n",
       "      <td>4.50</td>\n",
       "      <td>5.00</td>\n",
       "      <td>2.42</td>\n",
       "      <td>1.47</td>\n",
       "      <td>0.0</td>\n",
       "      <td>0.015</td>\n",
       "    </tr>\n",
       "    <tr>\n",
       "      <th>1</th>\n",
       "      <td>11-1021</td>\n",
       "      <td>General and Operations Managers</td>\n",
       "      <td>0.06</td>\n",
       "      <td>2.75</td>\n",
       "      <td>2.25</td>\n",
       "      <td>3.62</td>\n",
       "      <td>3.50</td>\n",
       "      <td>3.25</td>\n",
       "      <td>3.50</td>\n",
       "      <td>3.60</td>\n",
       "      <td>1.32</td>\n",
       "      <td>NaN</td>\n",
       "      <td>0.160</td>\n",
       "    </tr>\n",
       "    <tr>\n",
       "      <th>2</th>\n",
       "      <td>11-2011</td>\n",
       "      <td>Advertising and Promotions Managers</td>\n",
       "      <td>3.51</td>\n",
       "      <td>1.75</td>\n",
       "      <td>0.62</td>\n",
       "      <td>3.75</td>\n",
       "      <td>3.75</td>\n",
       "      <td>3.75</td>\n",
       "      <td>3.62</td>\n",
       "      <td>1.91</td>\n",
       "      <td>1.53</td>\n",
       "      <td>NaN</td>\n",
       "      <td>0.039</td>\n",
       "    </tr>\n",
       "    <tr>\n",
       "      <th>3</th>\n",
       "      <td>11-2021</td>\n",
       "      <td>Marketing Managers</td>\n",
       "      <td>1.52</td>\n",
       "      <td>1.75</td>\n",
       "      <td>0.00</td>\n",
       "      <td>4.12</td>\n",
       "      <td>4.00</td>\n",
       "      <td>4.00</td>\n",
       "      <td>4.25</td>\n",
       "      <td>2.44</td>\n",
       "      <td>1.21</td>\n",
       "      <td>NaN</td>\n",
       "      <td>0.014</td>\n",
       "    </tr>\n",
       "    <tr>\n",
       "      <th>4</th>\n",
       "      <td>11-2022</td>\n",
       "      <td>Sales Managers</td>\n",
       "      <td>0.50</td>\n",
       "      <td>2.12</td>\n",
       "      <td>1.62</td>\n",
       "      <td>4.25</td>\n",
       "      <td>3.88</td>\n",
       "      <td>4.12</td>\n",
       "      <td>4.25</td>\n",
       "      <td>2.30</td>\n",
       "      <td>1.33</td>\n",
       "      <td>NaN</td>\n",
       "      <td>0.013</td>\n",
       "    </tr>\n",
       "  </tbody>\n",
       "</table>\n",
       "</div>"
      ],
      "text/plain": [
       "  OCC_CODE                            OCC_TITLE  fine_arts  finger_dexterity  \\\n",
       "0  11-1011                     Chief Executives       0.29              2.13   \n",
       "1  11-1021      General and Operations Managers       0.06              2.75   \n",
       "2  11-2011  Advertising and Promotions Managers       3.51              1.75   \n",
       "3  11-2021                   Marketing Managers       1.52              1.75   \n",
       "4  11-2022                       Sales Managers       0.50              2.12   \n",
       "\n",
       "   manual_dexterity  social_perceptiveness  Negotiation  Originality  \\\n",
       "0              0.00                   4.38         4.50         4.50   \n",
       "1              2.25                   3.62         3.50         3.25   \n",
       "2              0.62                   3.75         3.75         3.75   \n",
       "3              0.00                   4.12         4.00         4.00   \n",
       "4              1.62                   4.25         3.88         4.12   \n",
       "\n",
       "   Persuasion  assisting_and_caring  cramped_work_space  label_ML  \\\n",
       "0        5.00                  2.42                1.47       0.0   \n",
       "1        3.50                  3.60                1.32       NaN   \n",
       "2        3.62                  1.91                1.53       NaN   \n",
       "3        4.25                  2.44                1.21       NaN   \n",
       "4        4.25                  2.30                1.33       NaN   \n",
       "\n",
       "   probability_ML  \n",
       "0           0.015  \n",
       "1           0.160  \n",
       "2           0.039  \n",
       "3           0.014  \n",
       "4           0.013  "
      ]
     },
     "execution_count": 252,
     "metadata": {},
     "output_type": "execute_result"
    }
   ],
   "source": [
    "ML_data.head()"
   ]
  },
  {
   "cell_type": "code",
   "execution_count": 253,
   "metadata": {},
   "outputs": [
    {
     "data": {
      "text/plain": [
       "(715, 13)"
      ]
     },
     "execution_count": 253,
     "metadata": {},
     "output_type": "execute_result"
    }
   ],
   "source": [
    "ML_data.shape"
   ]
  },
  {
   "cell_type": "markdown",
   "metadata": {},
   "source": [
    "## Train model on labelled data"
   ]
  },
  {
   "cell_type": "code",
   "execution_count": 254,
   "metadata": {},
   "outputs": [
    {
     "data": {
      "text/html": [
       "<div>\n",
       "<style scoped>\n",
       "    .dataframe tbody tr th:only-of-type {\n",
       "        vertical-align: middle;\n",
       "    }\n",
       "\n",
       "    .dataframe tbody tr th {\n",
       "        vertical-align: top;\n",
       "    }\n",
       "\n",
       "    .dataframe thead th {\n",
       "        text-align: right;\n",
       "    }\n",
       "</style>\n",
       "<table border=\"1\" class=\"dataframe\">\n",
       "  <thead>\n",
       "    <tr style=\"text-align: right;\">\n",
       "      <th></th>\n",
       "      <th>OCC_CODE</th>\n",
       "      <th>OCC_TITLE</th>\n",
       "      <th>fine_arts</th>\n",
       "      <th>finger_dexterity</th>\n",
       "      <th>manual_dexterity</th>\n",
       "      <th>social_perceptiveness</th>\n",
       "      <th>Negotiation</th>\n",
       "      <th>Originality</th>\n",
       "      <th>Persuasion</th>\n",
       "      <th>assisting_and_caring</th>\n",
       "      <th>cramped_work_space</th>\n",
       "      <th>label_ML</th>\n",
       "      <th>probability_ML</th>\n",
       "    </tr>\n",
       "  </thead>\n",
       "  <tbody>\n",
       "    <tr>\n",
       "      <th>0</th>\n",
       "      <td>11-1011</td>\n",
       "      <td>Chief Executives</td>\n",
       "      <td>0.290000</td>\n",
       "      <td>2.130</td>\n",
       "      <td>0.000000</td>\n",
       "      <td>4.380000</td>\n",
       "      <td>4.500</td>\n",
       "      <td>4.500000</td>\n",
       "      <td>5.000000</td>\n",
       "      <td>2.420000</td>\n",
       "      <td>1.470000</td>\n",
       "      <td>0.0</td>\n",
       "      <td>0.0150</td>\n",
       "    </tr>\n",
       "    <tr>\n",
       "      <th>11</th>\n",
       "      <td>11-3071</td>\n",
       "      <td>Transportation, Storage, and Distribution Mana...</td>\n",
       "      <td>0.186667</td>\n",
       "      <td>1.790</td>\n",
       "      <td>0.626667</td>\n",
       "      <td>3.750000</td>\n",
       "      <td>3.540</td>\n",
       "      <td>3.126667</td>\n",
       "      <td>3.456667</td>\n",
       "      <td>2.533333</td>\n",
       "      <td>1.286667</td>\n",
       "      <td>0.0</td>\n",
       "      <td>0.5900</td>\n",
       "    </tr>\n",
       "    <tr>\n",
       "      <th>28</th>\n",
       "      <td>11-9151</td>\n",
       "      <td>Social and Community Service Managers</td>\n",
       "      <td>1.220000</td>\n",
       "      <td>2.250</td>\n",
       "      <td>0.000000</td>\n",
       "      <td>4.750000</td>\n",
       "      <td>3.750</td>\n",
       "      <td>4.120000</td>\n",
       "      <td>3.880000</td>\n",
       "      <td>5.510000</td>\n",
       "      <td>1.600000</td>\n",
       "      <td>0.0</td>\n",
       "      <td>0.0067</td>\n",
       "    </tr>\n",
       "    <tr>\n",
       "      <th>35</th>\n",
       "      <td>13-1031</td>\n",
       "      <td>Claims Adjusters, Examiners, and Investigators</td>\n",
       "      <td>0.175000</td>\n",
       "      <td>2.315</td>\n",
       "      <td>1.185000</td>\n",
       "      <td>3.250000</td>\n",
       "      <td>3.685</td>\n",
       "      <td>2.500000</td>\n",
       "      <td>3.190000</td>\n",
       "      <td>2.320000</td>\n",
       "      <td>1.360000</td>\n",
       "      <td>1.0</td>\n",
       "      <td>0.9800</td>\n",
       "    </tr>\n",
       "    <tr>\n",
       "      <th>37</th>\n",
       "      <td>13-1041</td>\n",
       "      <td>Compliance Officers</td>\n",
       "      <td>0.111667</td>\n",
       "      <td>2.710</td>\n",
       "      <td>1.668333</td>\n",
       "      <td>3.683333</td>\n",
       "      <td>3.145</td>\n",
       "      <td>3.315000</td>\n",
       "      <td>3.438333</td>\n",
       "      <td>3.248333</td>\n",
       "      <td>1.933333</td>\n",
       "      <td>0.0</td>\n",
       "      <td>0.0800</td>\n",
       "    </tr>\n",
       "  </tbody>\n",
       "</table>\n",
       "</div>"
      ],
      "text/plain": [
       "   OCC_CODE                                          OCC_TITLE  fine_arts  \\\n",
       "0   11-1011                                   Chief Executives   0.290000   \n",
       "11  11-3071  Transportation, Storage, and Distribution Mana...   0.186667   \n",
       "28  11-9151              Social and Community Service Managers   1.220000   \n",
       "35  13-1031     Claims Adjusters, Examiners, and Investigators   0.175000   \n",
       "37  13-1041                                Compliance Officers   0.111667   \n",
       "\n",
       "    finger_dexterity  manual_dexterity  social_perceptiveness  Negotiation  \\\n",
       "0              2.130          0.000000               4.380000        4.500   \n",
       "11             1.790          0.626667               3.750000        3.540   \n",
       "28             2.250          0.000000               4.750000        3.750   \n",
       "35             2.315          1.185000               3.250000        3.685   \n",
       "37             2.710          1.668333               3.683333        3.145   \n",
       "\n",
       "    Originality  Persuasion  assisting_and_caring  cramped_work_space  \\\n",
       "0      4.500000    5.000000              2.420000            1.470000   \n",
       "11     3.126667    3.456667              2.533333            1.286667   \n",
       "28     4.120000    3.880000              5.510000            1.600000   \n",
       "35     2.500000    3.190000              2.320000            1.360000   \n",
       "37     3.315000    3.438333              3.248333            1.933333   \n",
       "\n",
       "    label_ML  probability_ML  \n",
       "0        0.0          0.0150  \n",
       "11       0.0          0.5900  \n",
       "28       0.0          0.0067  \n",
       "35       1.0          0.9800  \n",
       "37       0.0          0.0800  "
      ]
     },
     "execution_count": 254,
     "metadata": {},
     "output_type": "execute_result"
    }
   ],
   "source": [
    "ML_train = ML_data[ML_data['label_ML']>=0]\n",
    "ML_train.head()"
   ]
  },
  {
   "cell_type": "code",
   "execution_count": 255,
   "metadata": {
    "collapsed": true
   },
   "outputs": [],
   "source": [
    "features = ['fine_arts','finger_dexterity','manual_dexterity','social_perceptiveness','Negotiation','Originality','Persuasion','assisting_and_caring','cramped_work_space']\n",
    "\n",
    "X_train = ML_train.filter(features)\n",
    "y_train = ML_train.filter(['label_ML'])"
   ]
  },
  {
   "cell_type": "code",
   "execution_count": 256,
   "metadata": {
    "collapsed": true
   },
   "outputs": [],
   "source": [
    "X_all = ML_data.filter(features)"
   ]
  },
  {
   "cell_type": "code",
   "execution_count": 257,
   "metadata": {},
   "outputs": [
    {
     "name": "stdout",
     "output_type": "stream",
     "text": [
      "(68, 9)\n",
      "(715, 13)\n"
     ]
    }
   ],
   "source": [
    "X_train = X_train\n",
    "print(X_train.shape)\n",
    "print(ML_data.shape)"
   ]
  },
  {
   "cell_type": "code",
   "execution_count": 258,
   "metadata": {},
   "outputs": [
    {
     "name": "stderr",
     "output_type": "stream",
     "text": [
      "C:\\Users\\Mike\\Anaconda3\\lib\\site-packages\\sklearn\\utils\\validation.py:578: DataConversionWarning: A column-vector y was passed when a 1d array was expected. Please change the shape of y to (n_samples, ), for example using ravel().\n",
      "  y = column_or_1d(y, warn=True)\n"
     ]
    },
    {
     "data": {
      "text/plain": [
       "0.9558823529411765"
      ]
     },
     "execution_count": 258,
     "metadata": {},
     "output_type": "execute_result"
    }
   ],
   "source": [
    "#kernel = 1.0 * RBF(1.0)\n",
    "kernel = 1.0 * RationalQuadratic(length_scale=1.0, alpha=0.1)\n",
    "gpc = GaussianProcessClassifier(kernel=kernel,random_state=0).fit(X_train, y_train)\n",
    "gpc.score(X_train, y_train)"
   ]
  },
  {
   "cell_type": "markdown",
   "metadata": {},
   "source": [
    "## Run model on all occupations"
   ]
  },
  {
   "cell_type": "code",
   "execution_count": 259,
   "metadata": {},
   "outputs": [],
   "source": [
    "GP_est = pd.DataFrame(gpc.predict_proba(X_all))"
   ]
  },
  {
   "cell_type": "code",
   "execution_count": 260,
   "metadata": {
    "scrolled": false
   },
   "outputs": [],
   "source": [
    "ML_output = pd.concat([ML_data,GP_est],axis=1,ignore_index= True)"
   ]
  },
  {
   "cell_type": "code",
   "execution_count": 261,
   "metadata": {},
   "outputs": [],
   "source": [
    "ML_output.columns = ['OCC_CODE','OCC_TITLE','fine_arts','finger_dexterity',\n",
    "                     'manual_dexterity','social_perceptiveness','Negotiation',\n",
    "                     'Persuasion','Originality','assisting_and_caring','cramped_work_space',\n",
    "                     'label_ML','probability_ML','GP_pred_0','GP_pred_1']"
   ]
  },
  {
   "cell_type": "markdown",
   "metadata": {},
   "source": [
    "## Analyse results against original study "
   ]
  },
  {
   "cell_type": "code",
   "execution_count": 262,
   "metadata": {},
   "outputs": [
    {
     "data": {
      "text/plain": [
       "<matplotlib.collections.PathCollection at 0x2057f8df668>"
      ]
     },
     "execution_count": 262,
     "metadata": {},
     "output_type": "execute_result"
    },
    {
     "data": {
      "image/png": "[encoded data removed]",
      "text/plain": [
       "<Figure size 432x288 with 1 Axes>"
      ]
     },
     "metadata": {},
     "output_type": "display_data"
    }
   ],
   "source": [
    "plt.scatter(ML_output['probability_ML'], ML_output['GP_pred_1'])"
   ]
  },
  {
   "cell_type": "code",
   "execution_count": 263,
   "metadata": {},
   "outputs": [],
   "source": [
    "# Assign classifications\n",
    "\n",
    "def prob_class_old(row):\n",
    "    if row[\"probability_ML\"] < 0.3:\n",
    "        return \"3) Low\"\n",
    "    elif row[\"probability_ML\"] < 0.6:\n",
    "        return \"2) Medium\"\n",
    "    else:\n",
    "        return \"1) High\"\n",
    "\n",
    "def prob_class_new(row):\n",
    "    if row[\"GP_pred_1\"] < 0.3:\n",
    "        return \"3) Low\"\n",
    "    elif row[\"GP_pred_1\"] < 0.6:\n",
    "        return \"2) Medium\"\n",
    "    else:\n",
    "        return \"1) High\"\n"
   ]
  },
  {
   "cell_type": "code",
   "execution_count": 264,
   "metadata": {},
   "outputs": [],
   "source": [
    "ML_output_mod = ML_output.assign(prob_class_old=ML_output.apply(prob_class_old, axis=1))\n",
    "ML_output_mod = ML_output_mod.assign(prob_class_new=ML_output_mod.apply(prob_class_new, axis=1))"
   ]
  },
  {
   "cell_type": "code",
   "execution_count": 265,
   "metadata": {},
   "outputs": [
    {
     "data": {
      "text/plain": [
       "prob_class_old  prob_class_new\n",
       "1) High         1) High           331\n",
       "                2) Medium          48\n",
       "                3) Low             17\n",
       "2) Medium       1) High            31\n",
       "                2) Medium          43\n",
       "                3) Low             16\n",
       "3) Low          1) High             7\n",
       "                2) Medium          40\n",
       "                3) Low            182\n",
       "dtype: int64"
      ]
     },
     "execution_count": 265,
     "metadata": {},
     "output_type": "execute_result"
    }
   ],
   "source": [
    "ML_output_mod.groupby(['prob_class_old','prob_class_new']).size()"
   ]
  },
  {
   "cell_type": "markdown",
   "metadata": {},
   "source": [
    "## Running same model on 2018 dataset"
   ]
  },
  {
   "cell_type": "code",
   "execution_count": 266,
   "metadata": {},
   "outputs": [],
   "source": [
    "ML_data_2018 = pd.read_csv(\"ML_data_2018.csv\")\n",
    "column_names_2018 = ML_data_2018.columns.values.tolist()"
   ]
  },
  {
   "cell_type": "code",
   "execution_count": 267,
   "metadata": {},
   "outputs": [],
   "source": [
    "X_all_2018 = ML_data_2018.filter(features)\n",
    "GP_est_2018 = pd.DataFrame(gpc.predict_proba(X_all_2018))\n",
    "ML_output_2018 = pd.concat([ML_data_2018,GP_est_2018],axis=1,ignore_index= True)\n",
    "ML_output_2018.columns = column_names_2018+ ['GP_pred_0','GP_pred_1']"
   ]
  },
  {
   "cell_type": "code",
   "execution_count": 268,
   "metadata": {},
   "outputs": [],
   "source": [
    "ML_output_2018_mod = ML_output_2018.assign(prob_class_new=ML_output_2018.apply(prob_class_new, axis=1))"
   ]
  },
  {
   "cell_type": "code",
   "execution_count": 269,
   "metadata": {},
   "outputs": [
    {
     "data": {
      "text/html": [
       "<div>\n",
       "<style scoped>\n",
       "    .dataframe tbody tr th:only-of-type {\n",
       "        vertical-align: middle;\n",
       "    }\n",
       "\n",
       "    .dataframe tbody tr th {\n",
       "        vertical-align: top;\n",
       "    }\n",
       "\n",
       "    .dataframe thead th {\n",
       "        text-align: right;\n",
       "    }\n",
       "</style>\n",
       "<table border=\"1\" class=\"dataframe\">\n",
       "  <thead>\n",
       "    <tr style=\"text-align: right;\">\n",
       "      <th></th>\n",
       "      <th>OCC_CODE</th>\n",
       "      <th>cognitive_abilities</th>\n",
       "      <th>physical_abilities</th>\n",
       "      <th>psychomotor_abilities</th>\n",
       "      <th>sensory_abilities</th>\n",
       "      <th>assisting_and_caring</th>\n",
       "      <th>cramped_work_space</th>\n",
       "      <th>fine_arts</th>\n",
       "      <th>finger_dexterity</th>\n",
       "      <th>manual_dexterity</th>\n",
       "      <th>Negotiation</th>\n",
       "      <th>Originality</th>\n",
       "      <th>Persuasion</th>\n",
       "      <th>social_perceptiveness</th>\n",
       "      <th>GP_pred_0</th>\n",
       "      <th>GP_pred_1</th>\n",
       "      <th>prob_class_new</th>\n",
       "    </tr>\n",
       "  </thead>\n",
       "  <tbody>\n",
       "    <tr>\n",
       "      <th>0</th>\n",
       "      <td>11-1011</td>\n",
       "      <td>3.242865</td>\n",
       "      <td>0.013889</td>\n",
       "      <td>0.456</td>\n",
       "      <td>1.837083</td>\n",
       "      <td>2.275</td>\n",
       "      <td>1.415</td>\n",
       "      <td>0.915</td>\n",
       "      <td>2.00</td>\n",
       "      <td>0.00</td>\n",
       "      <td>3.935</td>\n",
       "      <td>4.125</td>\n",
       "      <td>4.44</td>\n",
       "      <td>3.935</td>\n",
       "      <td>0.926849</td>\n",
       "      <td>0.073151</td>\n",
       "      <td>3) Low</td>\n",
       "    </tr>\n",
       "    <tr>\n",
       "      <th>1</th>\n",
       "      <td>11-1021</td>\n",
       "      <td>3.026486</td>\n",
       "      <td>1.026667</td>\n",
       "      <td>1.137</td>\n",
       "      <td>1.928333</td>\n",
       "      <td>2.950</td>\n",
       "      <td>1.530</td>\n",
       "      <td>0.470</td>\n",
       "      <td>1.38</td>\n",
       "      <td>0.75</td>\n",
       "      <td>3.620</td>\n",
       "      <td>3.380</td>\n",
       "      <td>3.50</td>\n",
       "      <td>4.000</td>\n",
       "      <td>0.859625</td>\n",
       "      <td>0.140375</td>\n",
       "      <td>3) Low</td>\n",
       "    </tr>\n",
       "    <tr>\n",
       "      <th>2</th>\n",
       "      <td>11-2011</td>\n",
       "      <td>2.799027</td>\n",
       "      <td>0.097778</td>\n",
       "      <td>0.287</td>\n",
       "      <td>1.780833</td>\n",
       "      <td>2.000</td>\n",
       "      <td>1.380</td>\n",
       "      <td>2.300</td>\n",
       "      <td>1.12</td>\n",
       "      <td>0.38</td>\n",
       "      <td>3.750</td>\n",
       "      <td>3.880</td>\n",
       "      <td>3.88</td>\n",
       "      <td>4.000</td>\n",
       "      <td>0.915966</td>\n",
       "      <td>0.084034</td>\n",
       "      <td>3) Low</td>\n",
       "    </tr>\n",
       "    <tr>\n",
       "      <th>3</th>\n",
       "      <td>11-2021</td>\n",
       "      <td>2.882757</td>\n",
       "      <td>0.125556</td>\n",
       "      <td>0.212</td>\n",
       "      <td>1.792500</td>\n",
       "      <td>2.210</td>\n",
       "      <td>1.200</td>\n",
       "      <td>1.320</td>\n",
       "      <td>1.25</td>\n",
       "      <td>0.00</td>\n",
       "      <td>3.880</td>\n",
       "      <td>4.000</td>\n",
       "      <td>4.38</td>\n",
       "      <td>4.000</td>\n",
       "      <td>0.929223</td>\n",
       "      <td>0.070777</td>\n",
       "      <td>3) Low</td>\n",
       "    </tr>\n",
       "    <tr>\n",
       "      <th>4</th>\n",
       "      <td>11-2022</td>\n",
       "      <td>2.958811</td>\n",
       "      <td>0.153333</td>\n",
       "      <td>0.523</td>\n",
       "      <td>1.812500</td>\n",
       "      <td>2.610</td>\n",
       "      <td>1.390</td>\n",
       "      <td>0.610</td>\n",
       "      <td>1.25</td>\n",
       "      <td>0.62</td>\n",
       "      <td>3.880</td>\n",
       "      <td>3.880</td>\n",
       "      <td>4.38</td>\n",
       "      <td>4.120</td>\n",
       "      <td>0.949928</td>\n",
       "      <td>0.050072</td>\n",
       "      <td>3) Low</td>\n",
       "    </tr>\n",
       "  </tbody>\n",
       "</table>\n",
       "</div>"
      ],
      "text/plain": [
       "  OCC_CODE  cognitive_abilities  physical_abilities  psychomotor_abilities  \\\n",
       "0  11-1011             3.242865            0.013889                  0.456   \n",
       "1  11-1021             3.026486            1.026667                  1.137   \n",
       "2  11-2011             2.799027            0.097778                  0.287   \n",
       "3  11-2021             2.882757            0.125556                  0.212   \n",
       "4  11-2022             2.958811            0.153333                  0.523   \n",
       "\n",
       "   sensory_abilities  assisting_and_caring  cramped_work_space  fine_arts  \\\n",
       "0           1.837083                 2.275               1.415      0.915   \n",
       "1           1.928333                 2.950               1.530      0.470   \n",
       "2           1.780833                 2.000               1.380      2.300   \n",
       "3           1.792500                 2.210               1.200      1.320   \n",
       "4           1.812500                 2.610               1.390      0.610   \n",
       "\n",
       "   finger_dexterity  manual_dexterity  Negotiation  Originality  Persuasion  \\\n",
       "0              2.00              0.00        3.935        4.125        4.44   \n",
       "1              1.38              0.75        3.620        3.380        3.50   \n",
       "2              1.12              0.38        3.750        3.880        3.88   \n",
       "3              1.25              0.00        3.880        4.000        4.38   \n",
       "4              1.25              0.62        3.880        3.880        4.38   \n",
       "\n",
       "   social_perceptiveness  GP_pred_0  GP_pred_1 prob_class_new  \n",
       "0                  3.935   0.926849   0.073151         3) Low  \n",
       "1                  4.000   0.859625   0.140375         3) Low  \n",
       "2                  4.000   0.915966   0.084034         3) Low  \n",
       "3                  4.000   0.929223   0.070777         3) Low  \n",
       "4                  4.120   0.949928   0.050072         3) Low  "
      ]
     },
     "execution_count": 269,
     "metadata": {},
     "output_type": "execute_result"
    }
   ],
   "source": [
    "ML_output_2018_mod.head()"
   ]
  },
  {
   "cell_type": "code",
   "execution_count": 270,
   "metadata": {
    "collapsed": true
   },
   "outputs": [],
   "source": [
    "ML_output_2018_mod.to_csv('ML_output_2018.csv')"
   ]
  }
 ],
 "metadata": {
  "kernelspec": {
   "display_name": "Python 3",
   "language": "python",
   "name": "python3"
  },
  "language_info": {
   "codemirror_mode": {
    "name": "ipython",
    "version": 3
   },
   "file_extension": ".py",
   "mimetype": "text/x-python",
   "name": "python",
   "nbconvert_exporter": "python",
   "pygments_lexer": "ipython3",
   "version": "3.6.3"
  }
 },
 "nbformat": 4,
 "nbformat_minor": 2
}
